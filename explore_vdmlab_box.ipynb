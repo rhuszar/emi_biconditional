{
 "cells": [
  {
   "cell_type": "code",
   "execution_count": null,
   "metadata": {
    "collapsed": false
   },
   "outputs": [],
   "source": [
    "%matplotlib inline\n",
    "import os\n",
    "import numpy as np\n",
    "import scipy\n",
    "import matplotlib.pyplot as plt\n",
    "\n",
    "import vdmlab as vdm\n",
    "from core import Rat, vdm_assign_label, combine_rats, remove_trial_events\n",
    "from load_data import get_events\n",
    "from plotting import plot_behavior"
   ]
  },
  {
   "cell_type": "code",
   "execution_count": null,
   "metadata": {
    "collapsed": false
   },
   "outputs": [],
   "source": [
    "output_filepath = 'C:/Users/Emily/code/emi_biconditional/plots'"
   ]
  },
  {
   "cell_type": "code",
   "execution_count": null,
   "metadata": {
    "collapsed": true
   },
   "outputs": [],
   "source": [
    "import info.RH05d1 as RH05d1\n",
    "import info.RH05d2 as RH05d2\n",
    "import info.RH05d3 as RH05d3\n",
    "\n",
    "import info.R105d1 as R105d1\n",
    "import info.R105d2 as R105d2\n",
    "import info.R105d3 as R105d3"
   ]
  },
  {
   "cell_type": "code",
   "execution_count": null,
   "metadata": {
    "collapsed": true
   },
   "outputs": [],
   "source": [
    "import info.check as check"
   ]
  },
  {
   "cell_type": "code",
   "execution_count": null,
   "metadata": {
    "collapsed": false
   },
   "outputs": [],
   "source": [
    "rh05_days = [RH05d1, RH05d2, RH05d3]\n",
    "r105_days = [R105d1, R105d2, R105d3]\n",
    "\n",
    "for day in r105_days:\n",
    "    events = get_events(day.event_mat)\n",
    "    if len(events['cue_off']) != len(events['cue_on']):\n",
    "        print(str(day.session_id) + ' cue event(s) missing')\n",
    "    if len(events['house_off']) != len(events['house_on']):\n",
    "        print(str(day.session_id) + ' house event(s) missing')\n",
    "    if len(events['tone_off']) != len(events['tone_on']):\n",
    "        print(str(day.session_id) + ' tone event(s) missing')\n",
    "    if len(events['noise_off']) != len(events['noise_on']):\n",
    "        print(str(day.session_id) + ' noise event(s) missing')"
   ]
  },
  {
   "cell_type": "code",
   "execution_count": null,
   "metadata": {
    "collapsed": true
   },
   "outputs": [],
   "source": []
  },
  {
   "cell_type": "code",
   "execution_count": null,
   "metadata": {
    "collapsed": false
   },
   "outputs": [],
   "source": [
    "print(events['cue_off'] - events['cue_on'])\n",
    "print(events['house_off'] - events['house_on'])\n",
    "print(events['tone_off'] - events['tone_on'])\n",
    "print(events['noise_off'] - events['noise_on'])"
   ]
  },
  {
   "cell_type": "code",
   "execution_count": null,
   "metadata": {
    "collapsed": true
   },
   "outputs": [],
   "source": []
  },
  {
   "cell_type": "code",
   "execution_count": null,
   "metadata": {
    "collapsed": true
   },
   "outputs": [],
   "source": [
    "events = get_events(R105d2.event_mat)"
   ]
  },
  {
   "cell_type": "code",
   "execution_count": null,
   "metadata": {
    "collapsed": true
   },
   "outputs": [],
   "source": [
    "n_trials = 32\n",
    "\n",
    "ons = ['cue_on', 'house_on', 'tone_on', 'noise_on']\n",
    "offs = ['cue_off', 'house_off', 'tone_off', 'noise_off']\n",
    "\n",
    "for on, off in zip(ons, offs):\n",
    "    if len(events[on]) < (n_trials / 2):\n",
    "        print('uh oh')\n",
    "    if len(events[off]) < (n_trials / 2):\n",
    "        print('uh oh')"
   ]
  },
  {
   "cell_type": "code",
   "execution_count": null,
   "metadata": {
    "collapsed": true
   },
   "outputs": [],
   "source": []
  },
  {
   "cell_type": "code",
   "execution_count": null,
   "metadata": {
    "collapsed": true
   },
   "outputs": [],
   "source": []
  },
  {
   "cell_type": "code",
   "execution_count": null,
   "metadata": {
    "collapsed": false
   },
   "outputs": [],
   "source": [
    "len(events['tone_on'])"
   ]
  },
  {
   "cell_type": "code",
   "execution_count": null,
   "metadata": {
    "collapsed": false
   },
   "outputs": [],
   "source": [
    "this_rat = '5'\n",
    "\n",
    "rats = [this_rat]\n",
    "data = dict()\n",
    "data[this_rat] = Rat(this_rat)\n",
    "\n",
    "sessions = [RH05d1, RH05d2]\n",
    "\n",
    "for session in sessions:\n",
    "    events = get_events(session.event_mat)\n",
    "    \n",
    "    if session == R105d1:\n",
    "        events = remove_trial_events(events, 'trial3')\n",
    "        events['house_on'] = np.delete(events['house_on'], 11)\n",
    "    \n",
    "    rats_data = vdm_assign_label(events)\n",
    "\n",
    "    data[this_rat].add_session(**rats_data)\n",
    "\n",
    "n_sessions = len(data[this_rat].sessions)\n",
    "\n",
    "df = combine_rats(data, rats, n_sessions)"
   ]
  },
  {
   "cell_type": "code",
   "execution_count": null,
   "metadata": {
    "collapsed": false
   },
   "outputs": [],
   "source": [
    "df.head()"
   ]
  },
  {
   "cell_type": "code",
   "execution_count": null,
   "metadata": {
    "collapsed": false
   },
   "outputs": [],
   "source": [
    "plot_behavior(df, [this_rat], filepath=None, only_sound=False, by_outcome=False)"
   ]
  },
  {
   "cell_type": "code",
   "execution_count": null,
   "metadata": {
    "collapsed": true
   },
   "outputs": [],
   "source": []
  }
 ],
 "metadata": {
  "anaconda-cloud": {},
  "kernelspec": {
   "display_name": "Python 3",
   "language": "python",
   "name": "python3"
  },
  "language_info": {
   "codemirror_mode": {
    "name": "ipython",
    "version": 3
   },
   "file_extension": ".py",
   "mimetype": "text/x-python",
   "name": "python",
   "nbconvert_exporter": "python",
   "pygments_lexer": "ipython3",
   "version": "3.5.2"
  }
 },
 "nbformat": 4,
 "nbformat_minor": 0
}
