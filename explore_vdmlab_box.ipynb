{
 "cells": [
  {
   "cell_type": "code",
   "execution_count": null,
   "metadata": {
    "collapsed": false
   },
   "outputs": [],
   "source": [
    "%matplotlib inline\n",
    "import os\n",
    "import numpy as np\n",
    "import scipy\n",
    "import matplotlib.pyplot as plt\n",
    "\n",
    "import vdmlab as vdm\n",
    "from core import Rat, vdm_assign_label, combine_rats\n",
    "from load_data import get_events\n",
    "from plotting import plot_behavior"
   ]
  },
  {
   "cell_type": "code",
   "execution_count": null,
   "metadata": {
    "collapsed": false
   },
   "outputs": [],
   "source": [
    "output_filepath = 'C:/Users/Emily/code/emi_biconditional/plots'"
   ]
  },
  {
   "cell_type": "code",
   "execution_count": null,
   "metadata": {
    "collapsed": true
   },
   "outputs": [],
   "source": [
    "import info.RH05d1 as RH05d1\n",
    "import info.R105d1 as R105d1"
   ]
  },
  {
   "cell_type": "code",
   "execution_count": null,
   "metadata": {
    "collapsed": true
   },
   "outputs": [],
   "source": [
    "import info.check as check"
   ]
  },
  {
   "cell_type": "code",
   "execution_count": null,
   "metadata": {
    "collapsed": true
   },
   "outputs": [],
   "source": []
  },
  {
   "cell_type": "code",
   "execution_count": null,
   "metadata": {
    "collapsed": true
   },
   "outputs": [],
   "source": []
  },
  {
   "cell_type": "code",
   "execution_count": null,
   "metadata": {
    "collapsed": true
   },
   "outputs": [],
   "source": [
    "def epoch_contains(epochs, value):\n",
    "    \"\"\"Checks whether value is in any epoch.\n",
    "    \n",
    "    Parameters\n",
    "    ----------\n",
    "    epochs: vdmlab.Epoch\n",
    "    value: float or int\n",
    "    \n",
    "    Returns\n",
    "    -------\n",
    "    boolean\n",
    "    \n",
    "    \"\"\"\n",
    "    for start, stop in zip(epochs.starts, epochs.stops):\n",
    "        if value >= start and value <= stop:\n",
    "            return True\n",
    "    return False\n",
    "\n",
    "\n",
    "def remove_trial_events(events, remove_trial, trial_duration=25):\n",
    "    \"\"\"Removes light and sound events during a given trial.\n",
    "    \n",
    "    Parameters\n",
    "    -----------\n",
    "    events: dict\n",
    "        With trial1_start, trial2_start, trial3_start, trial4_start, \n",
    "        'cue_on', 'cue_off', 'house_on', 'house_off', 'tone_on', \n",
    "        'tone_off', 'noise_on', 'noise_off', each a np.array\n",
    "    remove_trial: str\n",
    "        'trial1', 'trial2', 'trial3', 'trial4'\n",
    "    trial_duration: int\n",
    "        Default set to 25 seconds\n",
    "        \n",
    "    Returns\n",
    "    -------\n",
    "    filtered: dict\n",
    "        \n",
    "    \"\"\"\n",
    "    \n",
    "    valid_trials = ['trial1', 'trial2', 'trial3', 'trial4']\n",
    "    \n",
    "    if remove_trial not in valid_trials:\n",
    "        raise ValueError(\"remove_trial must be one of 'trial1', 'trial2', 'trial3', 'trial4'\")\n",
    "    \n",
    "    cues = ['cue_on', 'cue_off', 'house_on', 'house_off']\n",
    "    \n",
    "    trial1_start = events['trial1_start']\n",
    "    trial1_stop = trial1_start + trial_duration\n",
    "    trial2_start = events['trial2_start']\n",
    "    trial2_stop = trial2_start + trial_duration\n",
    "    trial3_start = events['trial3_start']\n",
    "    trial3_stop = trial3_start + trial_duration\n",
    "    trial4_start = events['trial4_start']\n",
    "    trial4_stop = trial4_start + trial_duration\n",
    "    \n",
    "    rats_data = dict()\n",
    "    rats_data['trial1'] = vdm.Epoch(trial1_start, trial1_stop-trial1_start)\n",
    "    rats_data['trial2'] = vdm.Epoch(trial2_start, trial2_stop-trial2_start)\n",
    "    rats_data['trial3'] = vdm.Epoch(trial3_start, trial3_stop-trial3_start)\n",
    "    rats_data['trial4'] = vdm.Epoch(trial4_start, trial4_stop-trial4_start)\n",
    "\n",
    "    \n",
    "    filtered = events\n",
    "    \n",
    "    for cue in cues:\n",
    "        remove_idx = []\n",
    "        for i, event in enumerate(events[cue]):\n",
    "            if epoch_contains(rats_data[remove_trial], event):\n",
    "                remove_idx.append(i)\n",
    "        filtered[cue] = np.delete(events[cue], remove_idx)\n",
    "        \n",
    "    return filtered"
   ]
  },
  {
   "cell_type": "code",
   "execution_count": null,
   "metadata": {
    "collapsed": false
   },
   "outputs": [],
   "source": [
    "events_f = remove_trial_events(events, 'trial3')"
   ]
  },
  {
   "cell_type": "code",
   "execution_count": null,
   "metadata": {
    "collapsed": false
   },
   "outputs": [],
   "source": [
    "len(events_f['tone_on']), len(events_f['tone_off'])"
   ]
  },
  {
   "cell_type": "code",
   "execution_count": null,
   "metadata": {
    "collapsed": false
   },
   "outputs": [],
   "source": [
    "len(events['cue_on']), len(events['cue_off'])"
   ]
  },
  {
   "cell_type": "code",
   "execution_count": null,
   "metadata": {
    "collapsed": false
   },
   "outputs": [],
   "source": [
    "len(events_f['house_on']), len(events_f['house_off'])"
   ]
  },
  {
   "cell_type": "code",
   "execution_count": null,
   "metadata": {
    "collapsed": false
   },
   "outputs": [],
   "source": [
    "len(events['house_on']), len(events['house_off'])"
   ]
  },
  {
   "cell_type": "code",
   "execution_count": null,
   "metadata": {
    "collapsed": false
   },
   "outputs": [],
   "source": [
    "\n",
    "for i in range(15):\n",
    "    print(i, events['tone_off'][i] - events['tone_on'][i])"
   ]
  },
  {
   "cell_type": "code",
   "execution_count": null,
   "metadata": {
    "collapsed": false
   },
   "outputs": [],
   "source": [
    "events_f['house_off'][10:15], events_f['house_on'][10:15]"
   ]
  },
  {
   "cell_type": "code",
   "execution_count": null,
   "metadata": {
    "collapsed": true
   },
   "outputs": [],
   "source": []
  },
  {
   "cell_type": "code",
   "execution_count": null,
   "metadata": {
    "collapsed": false
   },
   "outputs": [],
   "source": [
    "events = get_events(R105d1.event_mat)"
   ]
  },
  {
   "cell_type": "code",
   "execution_count": null,
   "metadata": {
    "collapsed": false
   },
   "outputs": [],
   "source": [
    "events['cue_off'] - events['cue_on']"
   ]
  },
  {
   "cell_type": "code",
   "execution_count": null,
   "metadata": {
    "collapsed": false
   },
   "outputs": [],
   "source": [
    "events['house_off'] - events['house_on']"
   ]
  },
  {
   "cell_type": "code",
   "execution_count": null,
   "metadata": {
    "collapsed": false
   },
   "outputs": [],
   "source": [
    "len(events['pb_on'])"
   ]
  },
  {
   "cell_type": "code",
   "execution_count": null,
   "metadata": {
    "collapsed": false
   },
   "outputs": [],
   "source": [
    "len(events['pb_off'])"
   ]
  },
  {
   "cell_type": "code",
   "execution_count": null,
   "metadata": {
    "collapsed": true
   },
   "outputs": [],
   "source": []
  },
  {
   "cell_type": "code",
   "execution_count": null,
   "metadata": {
    "collapsed": false
   },
   "outputs": [],
   "source": [
    "missing_house_off = 3519.206521\n",
    "events['house_off'] = np.insert(events['house_off'], 0, missing_house_off)"
   ]
  },
  {
   "cell_type": "code",
   "execution_count": null,
   "metadata": {
    "collapsed": false
   },
   "outputs": [],
   "source": [
    "events['tone_off'] - events['tone_on']"
   ]
  },
  {
   "cell_type": "code",
   "execution_count": null,
   "metadata": {
    "collapsed": false
   },
   "outputs": [],
   "source": [
    "events['noise_off'] - events['noise_on']"
   ]
  },
  {
   "cell_type": "code",
   "execution_count": null,
   "metadata": {
    "collapsed": false
   },
   "outputs": [],
   "source": [
    "events['trial3_start']"
   ]
  },
  {
   "cell_type": "code",
   "execution_count": null,
   "metadata": {
    "collapsed": false
   },
   "outputs": [],
   "source": [
    "events['0']"
   ]
  },
  {
   "cell_type": "code",
   "execution_count": null,
   "metadata": {
    "collapsed": true
   },
   "outputs": [],
   "source": []
  },
  {
   "cell_type": "code",
   "execution_count": null,
   "metadata": {
    "collapsed": true
   },
   "outputs": [],
   "source": []
  },
  {
   "cell_type": "code",
   "execution_count": null,
   "metadata": {
    "collapsed": false
   },
   "outputs": [],
   "source": [
    "this_rat = '8'\n",
    "\n",
    "rats = [this_rat]\n",
    "data = dict()\n",
    "data[this_rat] = Rat(this_rat)\n",
    "\n",
    "sessions = [R105d1, R105d1]\n",
    "\n",
    "for session in sessions:\n",
    "    events = get_events(session.event_mat)\n",
    "    \n",
    "    if session == R105d1:\n",
    "        events = remove_trial_events(events, 'trial3')\n",
    "        events['house_on'] = np.delete(events['house_on'], 11)\n",
    "    \n",
    "    rats_data = vdm_assign_label(events)\n",
    "\n",
    "    data[this_rat].add_session(**rats_data)\n",
    "\n",
    "n_sessions = len(data[this_rat].sessions)\n",
    "\n",
    "df = combine_rats(data, rats, n_sessions)"
   ]
  },
  {
   "cell_type": "code",
   "execution_count": null,
   "metadata": {
    "collapsed": false
   },
   "outputs": [],
   "source": [
    "df.head()"
   ]
  },
  {
   "cell_type": "code",
   "execution_count": null,
   "metadata": {
    "collapsed": false
   },
   "outputs": [],
   "source": [
    "plot_behavior(df, [this_rat], filepath=None, only_sound=False, by_outcome=False)"
   ]
  },
  {
   "cell_type": "code",
   "execution_count": null,
   "metadata": {
    "collapsed": true
   },
   "outputs": [],
   "source": []
  },
  {
   "cell_type": "code",
   "execution_count": null,
   "metadata": {
    "collapsed": true
   },
   "outputs": [],
   "source": []
  },
  {
   "cell_type": "code",
   "execution_count": null,
   "metadata": {
    "collapsed": false
   },
   "outputs": [],
   "source": [
    "events = get_events(check.event_mat)"
   ]
  },
  {
   "cell_type": "code",
   "execution_count": null,
   "metadata": {
    "collapsed": false
   },
   "outputs": [],
   "source": [
    "events['cue_off'] - events['cue_on']"
   ]
  },
  {
   "cell_type": "code",
   "execution_count": null,
   "metadata": {
    "collapsed": false
   },
   "outputs": [],
   "source": [
    "events['house_off'] - events['house_on']"
   ]
  },
  {
   "cell_type": "code",
   "execution_count": null,
   "metadata": {
    "collapsed": false
   },
   "outputs": [],
   "source": [
    "events['house_on']"
   ]
  },
  {
   "cell_type": "code",
   "execution_count": null,
   "metadata": {
    "collapsed": true
   },
   "outputs": [],
   "source": []
  },
  {
   "cell_type": "code",
   "execution_count": null,
   "metadata": {
    "collapsed": false
   },
   "outputs": [],
   "source": [
    "events['tone_off'] - events['tone_on']"
   ]
  },
  {
   "cell_type": "code",
   "execution_count": null,
   "metadata": {
    "collapsed": false
   },
   "outputs": [],
   "source": [
    "events['noise_off'] - events['noise_on']"
   ]
  },
  {
   "cell_type": "code",
   "execution_count": null,
   "metadata": {
    "collapsed": true
   },
   "outputs": [],
   "source": []
  },
  {
   "cell_type": "code",
   "execution_count": null,
   "metadata": {
    "collapsed": true
   },
   "outputs": [],
   "source": []
  },
  {
   "cell_type": "code",
   "execution_count": null,
   "metadata": {
    "collapsed": false
   },
   "outputs": [],
   "source": [
    "events['1']"
   ]
  },
  {
   "cell_type": "code",
   "execution_count": null,
   "metadata": {
    "collapsed": false
   },
   "outputs": [],
   "source": [
    "events['cue_on']"
   ]
  },
  {
   "cell_type": "code",
   "execution_count": null,
   "metadata": {
    "collapsed": true
   },
   "outputs": [],
   "source": []
  },
  {
   "cell_type": "code",
   "execution_count": null,
   "metadata": {
    "collapsed": false
   },
   "outputs": [],
   "source": [
    "np.abs(events['cue_off'][1] - events['0'][1])"
   ]
  },
  {
   "cell_type": "code",
   "execution_count": null,
   "metadata": {
    "collapsed": false
   },
   "outputs": [],
   "source": [
    "np.abs(events['cue_off'][0] - events['0'][0])"
   ]
  },
  {
   "cell_type": "code",
   "execution_count": null,
   "metadata": {
    "collapsed": false
   },
   "outputs": [],
   "source": [
    "np.abs(events['house_on'][1] - events['2'][30])"
   ]
  },
  {
   "cell_type": "code",
   "execution_count": null,
   "metadata": {
    "collapsed": false
   },
   "outputs": [],
   "source": [
    "np.abs(events['house_on'][0] - events['2'][0])"
   ]
  },
  {
   "cell_type": "code",
   "execution_count": null,
   "metadata": {
    "collapsed": false
   },
   "outputs": [],
   "source": [
    "np.abs(events['tone_on'] - events['4'])"
   ]
  },
  {
   "cell_type": "code",
   "execution_count": null,
   "metadata": {
    "collapsed": false
   },
   "outputs": [],
   "source": [
    "np.abs(events['noise_on'] - events['3'])"
   ]
  },
  {
   "cell_type": "code",
   "execution_count": null,
   "metadata": {
    "collapsed": false
   },
   "outputs": [],
   "source": [
    "np.abs(events['tone_off'] - np.array(events['5'][1], events['5'][2]))"
   ]
  },
  {
   "cell_type": "code",
   "execution_count": null,
   "metadata": {
    "collapsed": false
   },
   "outputs": [],
   "source": [
    "np.abs(events['noise_off'] - np.array(events['5'][0], events['5'][3]))"
   ]
  },
  {
   "cell_type": "code",
   "execution_count": null,
   "metadata": {
    "collapsed": true
   },
   "outputs": [],
   "source": []
  }
 ],
 "metadata": {
  "anaconda-cloud": {},
  "kernelspec": {
   "display_name": "Python 3",
   "language": "python",
   "name": "python3"
  },
  "language_info": {
   "codemirror_mode": {
    "name": "ipython",
    "version": 3
   },
   "file_extension": ".py",
   "mimetype": "text/x-python",
   "name": "python",
   "nbconvert_exporter": "python",
   "pygments_lexer": "ipython3",
   "version": "3.5.2"
  }
 },
 "nbformat": 4,
 "nbformat_minor": 0
}
