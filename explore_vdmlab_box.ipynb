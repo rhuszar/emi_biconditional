{
 "cells": [
  {
   "cell_type": "code",
   "execution_count": 1,
   "metadata": {
    "collapsed": true
   },
   "outputs": [],
   "source": [
    "%matplotlib inline\n",
    "import os\n",
    "import numpy as np\n",
    "import scipy\n",
    "import matplotlib.pyplot as plt\n",
    "\n",
    "import vdmlab as vdm\n",
    "from core import Rat, vdm_assign_label, combine_rats\n",
    "from load_data import get_events\n",
    "from plotting import plot_behavior"
   ]
  },
  {
   "cell_type": "code",
   "execution_count": 2,
   "metadata": {
    "collapsed": false
   },
   "outputs": [],
   "source": [
    "output_filepath = 'C:/Users/Emily/code/emi_biconditional/plots'"
   ]
  },
  {
   "cell_type": "code",
   "execution_count": 3,
   "metadata": {
    "collapsed": false
   },
   "outputs": [],
   "source": [
    "import info.RH01d1 as RH01d1"
   ]
  },
  {
   "cell_type": "code",
   "execution_count": 4,
   "metadata": {
    "collapsed": false
   },
   "outputs": [],
   "source": [
    "def correct_timestamps(events):\n",
    "    events['cue_on'] = events['cue']\n",
    "    \n",
    "    events['cue_off'] = []\n",
    "    for on in events['cue_on']:\n",
    "        for off in events['main_off']:\n",
    "            if np.allclose(on+10, off, atol=0.5):\n",
    "                events['cue_off'].append(off)\n",
    "    events['cue_off'] = np.array(events['cue_off'])\n",
    "    \n",
    "    events['house_on'] = [events['house'][0], events['house'][7], events['house'][14], events['house'][21]]\n",
    "    events['house_on'] = np.array(events['house_on'])\n",
    "    \n",
    "    events['flash_off'] = [events['house'][6], events['house'][13], events['house'][20], events['house'][-1]]\n",
    "    \n",
    "    events['house_off'] = []\n",
    "    for last in events['flash_off']:\n",
    "        for off in events['main_off']:\n",
    "            if np.allclose(last, off, atol=0.5):\n",
    "                events['house_off'].append(off)\n",
    "    events['house_off'] = np.array(events['house_off'])\n",
    "    \n",
    "    return events"
   ]
  },
  {
   "cell_type": "code",
   "execution_count": 5,
   "metadata": {
    "collapsed": false
   },
   "outputs": [],
   "source": [
    "this_rat = '1'\n",
    "\n",
    "rats = [this_rat]\n",
    "data = dict()\n",
    "data[this_rat] = Rat(this_rat)\n",
    "\n",
    "sessions = [RH01d1]\n",
    "\n",
    "for session in sessions:\n",
    "    events = get_events(session.event_mat)\n",
    "    events = correct_timestamps(events)\n",
    "    \n",
    "    rats_data = vdm_assign_label(events)\n",
    "\n",
    "    data[this_rat].add_session(**rats_data, n_unique=2, delay=5.0, tolerance=1.7)\n",
    "    \n",
    "n_sessions = len(data[this_rat].sessions)\n",
    "\n",
    "df = combine_rats(data, rats, n_sessions)"
   ]
  },
  {
   "cell_type": "code",
   "execution_count": 6,
   "metadata": {
    "collapsed": false
   },
   "outputs": [
    {
     "data": {
      "text/html": [
       "<div>\n",
       "<table border=\"1\" class=\"dataframe\">\n",
       "  <thead>\n",
       "    <tr style=\"text-align: right;\">\n",
       "      <th></th>\n",
       "      <th>condition</th>\n",
       "      <th>cue</th>\n",
       "      <th>measure</th>\n",
       "      <th>rat</th>\n",
       "      <th>rewarded</th>\n",
       "      <th>session</th>\n",
       "      <th>trial</th>\n",
       "      <th>trial_type</th>\n",
       "      <th>value</th>\n",
       "    </tr>\n",
       "  </thead>\n",
       "  <tbody>\n",
       "    <tr>\n",
       "      <th>0</th>\n",
       "      <td>light 1</td>\n",
       "      <td>light</td>\n",
       "      <td>durations</td>\n",
       "      <td>1</td>\n",
       "      <td>light unrewarded</td>\n",
       "      <td>1</td>\n",
       "      <td>1, 0</td>\n",
       "      <td>1</td>\n",
       "      <td>0.0000</td>\n",
       "    </tr>\n",
       "    <tr>\n",
       "      <th>1</th>\n",
       "      <td>light 1</td>\n",
       "      <td>light</td>\n",
       "      <td>numbers</td>\n",
       "      <td>1</td>\n",
       "      <td>light unrewarded</td>\n",
       "      <td>1</td>\n",
       "      <td>1, 0</td>\n",
       "      <td>1</td>\n",
       "      <td>0.0000</td>\n",
       "    </tr>\n",
       "    <tr>\n",
       "      <th>2</th>\n",
       "      <td>light 1</td>\n",
       "      <td>light</td>\n",
       "      <td>latency</td>\n",
       "      <td>1</td>\n",
       "      <td>light unrewarded</td>\n",
       "      <td>1</td>\n",
       "      <td>1, 0</td>\n",
       "      <td>1</td>\n",
       "      <td>10.0000</td>\n",
       "    </tr>\n",
       "    <tr>\n",
       "      <th>3</th>\n",
       "      <td>light 1</td>\n",
       "      <td>light</td>\n",
       "      <td>responses</td>\n",
       "      <td>1</td>\n",
       "      <td>light unrewarded</td>\n",
       "      <td>1</td>\n",
       "      <td>1, 0</td>\n",
       "      <td>1</td>\n",
       "      <td>0.0000</td>\n",
       "    </tr>\n",
       "    <tr>\n",
       "      <th>4</th>\n",
       "      <td>sound 1</td>\n",
       "      <td>sound</td>\n",
       "      <td>durations</td>\n",
       "      <td>1</td>\n",
       "      <td>sound unrewarded</td>\n",
       "      <td>1</td>\n",
       "      <td>1, 1</td>\n",
       "      <td>1</td>\n",
       "      <td>1.7681</td>\n",
       "    </tr>\n",
       "  </tbody>\n",
       "</table>\n",
       "</div>"
      ],
      "text/plain": [
       "  condition    cue    measure rat          rewarded  session trial  \\\n",
       "0   light 1  light  durations   1  light unrewarded        1  1, 0   \n",
       "1   light 1  light    numbers   1  light unrewarded        1  1, 0   \n",
       "2   light 1  light    latency   1  light unrewarded        1  1, 0   \n",
       "3   light 1  light  responses   1  light unrewarded        1  1, 0   \n",
       "4   sound 1  sound  durations   1  sound unrewarded        1  1, 1   \n",
       "\n",
       "   trial_type    value  \n",
       "0           1   0.0000  \n",
       "1           1   0.0000  \n",
       "2           1  10.0000  \n",
       "3           1   0.0000  \n",
       "4           1   1.7681  "
      ]
     },
     "execution_count": 6,
     "metadata": {},
     "output_type": "execute_result"
    }
   ],
   "source": [
    "df.head()"
   ]
  },
  {
   "cell_type": "code",
   "execution_count": null,
   "metadata": {
    "collapsed": false
   },
   "outputs": [],
   "source": [
    "filename = 'vdmlab_trials_rat1_behavior.png'\n",
    "filepath = os.path.join(output_filepath, filename)\n",
    "plot_behavior(df, ['1'], filepath, only_sound=False, by_outcome=False)"
   ]
  },
  {
   "cell_type": "code",
   "execution_count": null,
   "metadata": {
    "collapsed": true
   },
   "outputs": [],
   "source": []
  },
  {
   "cell_type": "code",
   "execution_count": null,
   "metadata": {
    "collapsed": true
   },
   "outputs": [],
   "source": []
  },
  {
   "cell_type": "code",
   "execution_count": null,
   "metadata": {
    "collapsed": false
   },
   "outputs": [],
   "source": [
    "events = get_events(RH01d1.event_mat)\n",
    "events['label']"
   ]
  },
  {
   "cell_type": "code",
   "execution_count": null,
   "metadata": {
    "collapsed": false
   },
   "outputs": [],
   "source": [
    "events.keys()"
   ]
  },
  {
   "cell_type": "code",
   "execution_count": null,
   "metadata": {
    "collapsed": false
   },
   "outputs": [],
   "source": [
    "events['cue']"
   ]
  },
  {
   "cell_type": "code",
   "execution_count": null,
   "metadata": {
    "collapsed": false
   },
   "outputs": [],
   "source": [
    "# plt.plot(events['start_recording'], np.ones(len(events['start_recording'])),'|', color='k', ms=45)\n",
    "# plt.plot(events['stop_recording'], np.ones(len(events['stop_recording'])),'|', color='k', ms=45)\n",
    "# plt.plot(events['main_off'], np.ones(len(events['main_off'])),'|', color='g', ms=50)\n",
    "# plt.plot(events['cue'], np.ones(len(events['cue'])),'|', color='c', ms=35)\n",
    "plt.plot(events['house'], np.ones(len(events['house'])),'|', color='m', ms=35)\n",
    "# plt.plot(events['feeder'], np.ones(len(events['feeder'])),'|', color='r', ms=15)\n",
    "# plt.plot(events['noise_on'], np.ones(len(events['noise_on'])),'|', color='b', ms=25)\n",
    "# plt.plot(events['tone_on'], np.ones(len(events['tone_on'])),'|', color='g', ms=25)\n",
    "# plt.plot(events['noise_off'], np.ones(len(events['noise_off'])),'|', color='y', ms=25)\n",
    "# plt.plot(events['tone_off'], np.ones(len(events['tone_off'])),'|', color='k', ms=25)\n",
    "\n",
    "# plt.plot(events['pb_on'], np.ones(len(events['pb_on'])),'|', color='#c994c7', ms=35)\n",
    "# plt.plot(events['pb_off'], np.ones(len(events['pb_off'])),'|', color='#636363', ms=25)\n",
    "plt.ylim(0.95, 1.05)\n",
    "plt.show()"
   ]
  },
  {
   "cell_type": "code",
   "execution_count": null,
   "metadata": {
    "collapsed": false
   },
   "outputs": [],
   "source": [
    "len(events['pb_on']), len(events['pb_off'])"
   ]
  },
  {
   "cell_type": "code",
   "execution_count": null,
   "metadata": {
    "collapsed": false
   },
   "outputs": [],
   "source": [
    "events['tone_off'][0] - events['tone_on'][0]"
   ]
  },
  {
   "cell_type": "code",
   "execution_count": null,
   "metadata": {
    "collapsed": false
   },
   "outputs": [],
   "source": [
    "events['cue_on'] = events['cue']"
   ]
  },
  {
   "cell_type": "code",
   "execution_count": null,
   "metadata": {
    "collapsed": false
   },
   "outputs": [],
   "source": [
    "events['main_off']"
   ]
  },
  {
   "cell_type": "code",
   "execution_count": null,
   "metadata": {
    "collapsed": false
   },
   "outputs": [],
   "source": [
    "events['cue_off'] = []\n",
    "for on in events['cue']:\n",
    "    for off in events['main_off']:\n",
    "        if np.allclose(on+10, off, atol=0.5):\n",
    "            events['cue_off'].append(off)"
   ]
  },
  {
   "cell_type": "code",
   "execution_count": null,
   "metadata": {
    "collapsed": false
   },
   "outputs": [],
   "source": [
    "events['cue_off'] = np.array(events['cue_off'])\n",
    "events['cue_off']"
   ]
  },
  {
   "cell_type": "code",
   "execution_count": null,
   "metadata": {
    "collapsed": false
   },
   "outputs": [],
   "source": [
    "events['house_on'] = [events['house'][0], events['house'][7], events['house'][14], events['house'][21]]\n",
    "events['house_on'] = np.array(events['house_on'])"
   ]
  },
  {
   "cell_type": "code",
   "execution_count": null,
   "metadata": {
    "collapsed": false
   },
   "outputs": [],
   "source": [
    "events['flash_off'] = [events['house'][6], events['house'][13], events['house'][20], events['house'][-1]]"
   ]
  },
  {
   "cell_type": "code",
   "execution_count": null,
   "metadata": {
    "collapsed": true
   },
   "outputs": [],
   "source": [
    "events['house_off'] = []\n",
    "for last in events['flash_off']:\n",
    "    for off in events['main_off']:\n",
    "        if np.allclose(last, off, atol=0.5):\n",
    "            events['house_off'].append(off)\n",
    "events['house_off'] = np.array(events['house_off'])"
   ]
  },
  {
   "cell_type": "code",
   "execution_count": null,
   "metadata": {
    "collapsed": false
   },
   "outputs": [],
   "source": [
    "i = 0\n",
    "events['house_off'][i] - events['house_on'][i]"
   ]
  },
  {
   "cell_type": "code",
   "execution_count": null,
   "metadata": {
    "collapsed": true
   },
   "outputs": [],
   "source": []
  },
  {
   "cell_type": "code",
   "execution_count": null,
   "metadata": {
    "collapsed": false
   },
   "outputs": [],
   "source": [
    "events['tone_off']"
   ]
  },
  {
   "cell_type": "code",
   "execution_count": null,
   "metadata": {
    "collapsed": false
   },
   "outputs": [],
   "source": [
    "events['tone_on']"
   ]
  },
  {
   "cell_type": "code",
   "execution_count": null,
   "metadata": {
    "collapsed": false
   },
   "outputs": [],
   "source": [
    "events['noise_on']"
   ]
  },
  {
   "cell_type": "code",
   "execution_count": null,
   "metadata": {
    "collapsed": false
   },
   "outputs": [],
   "source": [
    "events['noise_off']"
   ]
  },
  {
   "cell_type": "code",
   "execution_count": null,
   "metadata": {
    "collapsed": false
   },
   "outputs": [],
   "source": [
    "events['house_on']"
   ]
  },
  {
   "cell_type": "code",
   "execution_count": null,
   "metadata": {
    "collapsed": false
   },
   "outputs": [],
   "source": [
    "events['house_off']"
   ]
  },
  {
   "cell_type": "code",
   "execution_count": null,
   "metadata": {
    "collapsed": false
   },
   "outputs": [],
   "source": [
    "events['cue_on']"
   ]
  },
  {
   "cell_type": "code",
   "execution_count": null,
   "metadata": {
    "collapsed": false
   },
   "outputs": [],
   "source": [
    "events['cue_off']"
   ]
  },
  {
   "cell_type": "code",
   "execution_count": null,
   "metadata": {
    "collapsed": false
   },
   "outputs": [],
   "source": [
    "len(events['pb_on']), len(events['pb_off'])"
   ]
  },
  {
   "cell_type": "code",
   "execution_count": null,
   "metadata": {
    "collapsed": false
   },
   "outputs": [],
   "source": [
    "events['feeder']"
   ]
  },
  {
   "cell_type": "code",
   "execution_count": null,
   "metadata": {
    "collapsed": true
   },
   "outputs": [],
   "source": []
  },
  {
   "cell_type": "code",
   "execution_count": null,
   "metadata": {
    "collapsed": true
   },
   "outputs": [],
   "source": [
    "rats_data = vdm_assign_label(events)"
   ]
  },
  {
   "cell_type": "code",
   "execution_count": null,
   "metadata": {
    "collapsed": false
   },
   "outputs": [],
   "source": [
    "for session in sessions:\n",
    "    events = get_events(session.event_mat)"
   ]
  },
  {
   "cell_type": "code",
   "execution_count": null,
   "metadata": {
    "collapsed": true
   },
   "outputs": [],
   "source": []
  },
  {
   "cell_type": "code",
   "execution_count": null,
   "metadata": {
    "collapsed": true
   },
   "outputs": [],
   "source": []
  }
 ],
 "metadata": {
  "anaconda-cloud": {},
  "kernelspec": {
   "display_name": "Python [default]",
   "language": "python",
   "name": "python3"
  },
  "language_info": {
   "codemirror_mode": {
    "name": "ipython",
    "version": 3
   },
   "file_extension": ".py",
   "mimetype": "text/x-python",
   "name": "python",
   "nbconvert_exporter": "python",
   "pygments_lexer": "ipython3",
   "version": "3.5.2"
  }
 },
 "nbformat": 4,
 "nbformat_minor": 0
}
