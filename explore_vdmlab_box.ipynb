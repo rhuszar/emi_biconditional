{
 "cells": [
  {
   "cell_type": "code",
   "execution_count": null,
   "metadata": {
    "collapsed": true
   },
   "outputs": [],
   "source": [
    "%matplotlib inline\n",
    "import numpy as np\n",
    "import scipy\n",
    "import matplotlib.pyplot as plt\n",
    "\n",
    "import vdmlab as vdm\n",
    "from load_data import get_events"
   ]
  },
  {
   "cell_type": "code",
   "execution_count": null,
   "metadata": {
    "collapsed": true
   },
   "outputs": [],
   "source": [
    "import info.check as info"
   ]
  },
  {
   "cell_type": "code",
   "execution_count": null,
   "metadata": {
    "collapsed": false
   },
   "outputs": [],
   "source": [
    "events = get_events(info.event_mat)\n",
    "events['label']"
   ]
  },
  {
   "cell_type": "code",
   "execution_count": null,
   "metadata": {
    "collapsed": false
   },
   "outputs": [],
   "source": [
    "events.keys()"
   ]
  },
  {
   "cell_type": "code",
   "execution_count": null,
   "metadata": {
    "collapsed": false
   },
   "outputs": [],
   "source": [
    "events['cue']"
   ]
  },
  {
   "cell_type": "code",
   "execution_count": null,
   "metadata": {
    "collapsed": false
   },
   "outputs": [],
   "source": [
    "plt.plot(events['start_recording'], np.ones(len(events['start_recording'])),'|', color='k', ms=45)\n",
    "plt.plot(events['stop_recording'], np.ones(len(events['stop_recording'])),'|', color='k', ms=45)\n",
    "# plt.plot(events['main_off'], np.ones(len(events['main_off'])),'|', color='g', ms=50)\n",
    "plt.plot(events['cue'], np.ones(len(events['cue'])),'|', color='c', ms=35)\n",
    "plt.plot(events['house'], np.ones(len(events['house'])),'|', color='m', ms=35)\n",
    "plt.plot(events['feeder'], np.ones(len(events['feeder'])),'|', color='r', ms=15)\n",
    "plt.plot(events['noise_on'], np.ones(len(events['noise_on'])),'|', color='b', ms=25)\n",
    "plt.plot(events['tone_on'], np.ones(len(events['tone_on'])),'|', color='g', ms=25)\n",
    "plt.plot(events['noise_off'], np.ones(len(events['noise_off'])),'|', color='y', ms=25)\n",
    "plt.plot(events['tone_off'], np.ones(len(events['tone_off'])),'|', color='b', ms=25)\n",
    "\n",
    "plt.plot(events['pb_on'], np.ones(len(events['pb_on'])),'|', color='#c994c7', ms=35)\n",
    "plt.plot(events['pb_off'], np.ones(len(events['pb_off'])),'|', color='#636363', ms=25)\n",
    "plt.ylim(0.95, 1.05)\n",
    "plt.show()"
   ]
  },
  {
   "cell_type": "code",
   "execution_count": null,
   "metadata": {
    "collapsed": false
   },
   "outputs": [],
   "source": [
    "len(events['pb_on']), len(events['pb_off'])"
   ]
  },
  {
   "cell_type": "code",
   "execution_count": null,
   "metadata": {
    "collapsed": false
   },
   "outputs": [],
   "source": []
  },
  {
   "cell_type": "code",
   "execution_count": null,
   "metadata": {
    "collapsed": false
   },
   "outputs": [],
   "source": [
    "cue_on = [events['cue'][0], events['cue'][3]]\n",
    "cue_off = [events['cue'][2], events['cue'][5]]\n",
    "\n",
    "house_on = [events['house'][0], events['house'][7]]\n",
    "house_off = [events['house'][6], events['house'][13]]\n",
    "\n",
    "tone_on = [events['tone_on'][0], events['tone_on'][3]]\n",
    "tone_off = [events['tone_off'][0], events['tone_off'][3]]\n",
    "\n",
    "noise_on = [events['noise_on'][0], events['noise_on'][4]]\n",
    "noise_off = [events['noise_off'][0], events['noise_off'][3]]\n",
    "\n",
    "plt.plot(events['start_recording'], np.ones(len(events['start_recording'])),'|', color='k', ms=25)\n",
    "plt.plot(events['stop_recording'], np.ones(len(events['stop_recording'])),'|', color='k', ms=25)\n",
    "plt.plot(cue_on, np.ones(len(cue_on)),'|', color='c', ms=25)\n",
    "plt.plot(cue_off, np.ones(len(cue_off)),'|', color='c', ms=25)\n",
    "plt.plot(house_on, np.ones(len(house_on)),'|', color='m', ms=25)\n",
    "plt.plot(house_off, np.ones(len(house_off)),'|', color='m', ms=25)\n",
    "plt.plot(tone_on, np.ones(len(tone_on)),'|', color='g', ms=25)\n",
    "plt.plot(tone_off, np.ones(len(tone_off)),'|', color='g', ms=25)\n",
    "plt.plot(noise_on, np.ones(len(noise_on)),'|', color='b', ms=25)\n",
    "plt.plot(noise_off, np.ones(len(noise_off)),'|', color='b', ms=25)\n",
    "plt.plot(events['feeder'], np.ones(len(events['feeder'])),'|', color='r', ms=30)\n",
    "plt.plot(events['pb_on'], np.ones(len(events['pb_on'])),'|', color='#c994c7', ms=35)\n",
    "plt.plot(events['pb_off'], np.ones(len(events['pb_off'])),'|', color='#636363', ms=25)\n",
    "\n",
    "plt.show()"
   ]
  },
  {
   "cell_type": "code",
   "execution_count": null,
   "metadata": {
    "collapsed": true
   },
   "outputs": [],
   "source": []
  },
  {
   "cell_type": "code",
   "execution_count": null,
   "metadata": {
    "collapsed": false
   },
   "outputs": [],
   "source": [
    "events['cue'][2] - events['cue'][0]"
   ]
  },
  {
   "cell_type": "code",
   "execution_count": null,
   "metadata": {
    "collapsed": false
   },
   "outputs": [],
   "source": [
    "events['cue'][5] - events['cue'][3]"
   ]
  },
  {
   "cell_type": "code",
   "execution_count": null,
   "metadata": {
    "collapsed": false
   },
   "outputs": [],
   "source": [
    "events['house'][6] - events['house'][0]"
   ]
  },
  {
   "cell_type": "code",
   "execution_count": null,
   "metadata": {
    "collapsed": false,
    "scrolled": true
   },
   "outputs": [],
   "source": [
    "events['house'][13] - events['house'][7]"
   ]
  },
  {
   "cell_type": "code",
   "execution_count": null,
   "metadata": {
    "collapsed": false
   },
   "outputs": [],
   "source": [
    "events['feeder']"
   ]
  },
  {
   "cell_type": "code",
   "execution_count": null,
   "metadata": {
    "collapsed": false
   },
   "outputs": [],
   "source": [
    "events['tone'][0] - events['sound2_off'][0]"
   ]
  },
  {
   "cell_type": "code",
   "execution_count": null,
   "metadata": {
    "collapsed": false
   },
   "outputs": [],
   "source": [
    "events['tone'][3] - events['sound2_off'][3]"
   ]
  },
  {
   "cell_type": "code",
   "execution_count": null,
   "metadata": {
    "collapsed": false
   },
   "outputs": [],
   "source": [
    "events['noise'][0] - events['sound_off'][0]"
   ]
  },
  {
   "cell_type": "code",
   "execution_count": null,
   "metadata": {
    "collapsed": false
   },
   "outputs": [],
   "source": [
    "events['noise'][3] - events['sound_off'][4]"
   ]
  },
  {
   "cell_type": "code",
   "execution_count": null,
   "metadata": {
    "collapsed": true
   },
   "outputs": [],
   "source": []
  }
 ],
 "metadata": {
  "anaconda-cloud": {},
  "kernelspec": {
   "display_name": "Python [default]",
   "language": "python",
   "name": "python3"
  },
  "language_info": {
   "codemirror_mode": {
    "name": "ipython",
    "version": 3
   },
   "file_extension": ".py",
   "mimetype": "text/x-python",
   "name": "python",
   "nbconvert_exporter": "python",
   "pygments_lexer": "ipython3",
   "version": "3.5.2"
  }
 },
 "nbformat": 4,
 "nbformat_minor": 0
}
