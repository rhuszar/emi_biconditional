{
 "cells": [
  {
   "cell_type": "code",
   "execution_count": null,
   "metadata": {
    "collapsed": true
   },
   "outputs": [],
   "source": [
    "%matplotlib inline\n",
    "import numpy as np\n",
    "import vdmlab as vdm\n",
    "import matplotlib.pyplot as plt\n",
    "import pandas as pd\n",
    "from core import Rat, assign_label, combine_rats, f_analyze"
   ]
  },
  {
   "cell_type": "code",
   "execution_count": null,
   "metadata": {
    "collapsed": true
   },
   "outputs": [],
   "source": [
    "# test_file = 'E:\\\\code\\\\emi_biconditional\\\\cache\\\\other\\\\!roborats'\n",
    "test_file = 'C:\\\\Users\\\\Emily\\\\Code\\\\emi_biconditional\\\\cache\\\\other\\\\!roborats'"
   ]
  },
  {
   "cell_type": "code",
   "execution_count": null,
   "metadata": {
    "collapsed": false
   },
   "outputs": [],
   "source": [
    "rats_data = vdm.load_medpc(test_file, assign_label)"
   ]
  },
  {
   "cell_type": "code",
   "execution_count": null,
   "metadata": {
    "collapsed": false
   },
   "outputs": [],
   "source": [
    "rats = ['1', '2', '3', '4', '5', '6', '7']\n",
    "\n",
    "data = dict()\n",
    "for rat in rats:\n",
    "    data[rat] = Rat(rat)\n",
    "    data[rat].add_session(**rats_data[rat])"
   ]
  },
  {
   "cell_type": "code",
   "execution_count": null,
   "metadata": {
    "collapsed": false
   },
   "outputs": [],
   "source": [
    "n_sessions = len(data['1'].sessions)\n",
    "only_sound = False"
   ]
  },
  {
   "cell_type": "code",
   "execution_count": null,
   "metadata": {
    "collapsed": false
   },
   "outputs": [],
   "source": [
    "df = combine_rats(data, rats, n_sessions, only_sound=False)"
   ]
  },
  {
   "cell_type": "code",
   "execution_count": null,
   "metadata": {
    "collapsed": false
   },
   "outputs": [],
   "source": [
    "df.head()"
   ]
  },
  {
   "cell_type": "code",
   "execution_count": null,
   "metadata": {
    "collapsed": true
   },
   "outputs": [],
   "source": []
  },
  {
   "cell_type": "code",
   "execution_count": null,
   "metadata": {
    "collapsed": false
   },
   "outputs": [],
   "source": [
    "rat = '1'\n",
    "for cue in ['light', 'sound']:\n",
    "    for trial in [1, 2, 3, 4]:\n",
    "        this_df = (df.groupby(['rat']).get_group(rat).groupby(['cue']).get_group(cue).\n",
    "                        groupby(['trial_type']).get_group(trial)[['measure', 'value']])\n",
    "        assert(np.allclose(np.mean(this_df[this_df['measure'] == 'durations']['value']), 0.0))\n",
    "        assert(np.allclose(np.mean(this_df[this_df['measure'] == 'numbers']['value']), 0.0))\n",
    "        assert(np.allclose(np.mean(this_df[this_df['measure'] == 'latency']['value']), 10.0))\n",
    "        assert(np.allclose(np.mean(this_df[this_df['measure'] == 'responses']['value']), 0.0))"
   ]
  },
  {
   "cell_type": "code",
   "execution_count": null,
   "metadata": {
    "collapsed": false
   },
   "outputs": [],
   "source": [
    "rat = '2'\n",
    "for cue in ['light', 'sound']:\n",
    "    for trial in [1, 2, 3, 4]:\n",
    "        this_df = (df.groupby(['rat']).get_group(rat).groupby(['cue']).get_group(cue).\n",
    "                   groupby(['trial_type']).get_group(trial)[['measure', 'value']])\n",
    "        assert(np.allclose(np.mean(this_df[this_df['measure'] == 'durations']['value']), 10.0))\n",
    "        assert(np.allclose(np.mean(this_df[this_df['measure'] == 'numbers']['value']), 1.0))\n",
    "        assert(np.allclose(np.mean(this_df[this_df['measure'] == 'latency']['value']), 0.0))\n",
    "        assert(np.allclose(np.mean(this_df[this_df['measure'] == 'responses']['value']), 100.0))"
   ]
  },
  {
   "cell_type": "code",
   "execution_count": null,
   "metadata": {
    "collapsed": false
   },
   "outputs": [],
   "source": [
    "rat = '3'\n",
    "cue = 'sound'\n",
    "for trial in [1, 2, 3, 4]:\n",
    "    this_df = (df.groupby(['rat']).get_group(rat).groupby(['cue']).get_group(cue).\n",
    "               groupby(['trial_type']).get_group(trial)[['measure', 'value']])\n",
    "    assert(np.allclose(np.mean(this_df[this_df['measure'] == 'durations']['value']), 10.0))\n",
    "    assert(np.allclose(np.mean(this_df[this_df['measure'] == 'numbers']['value']), 1.0))\n",
    "    assert(np.allclose(np.mean(this_df[this_df['measure'] == 'latency']['value']), 0.0))\n",
    "    assert(np.allclose(np.mean(this_df[this_df['measure'] == 'responses']['value']), 100.0))\n",
    "    \n",
    "cue = 'light'\n",
    "for trial in [1, 2, 3, 4]:\n",
    "    this_df = (df.groupby(['rat']).get_group(rat).groupby(['cue']).get_group(cue).\n",
    "               groupby(['trial_type']).get_group(trial)[['measure', 'value']])\n",
    "    assert(np.allclose(np.mean(this_df[this_df['measure'] == 'durations']['value']), 0.0))\n",
    "    assert(np.allclose(np.mean(this_df[this_df['measure'] == 'numbers']['value']), 0.0))\n",
    "    assert(np.allclose(np.mean(this_df[this_df['measure'] == 'latency']['value']), 10.0))\n",
    "    assert(np.allclose(np.mean(this_df[this_df['measure'] == 'responses']['value']), 0.0))"
   ]
  },
  {
   "cell_type": "code",
   "execution_count": null,
   "metadata": {
    "collapsed": true
   },
   "outputs": [],
   "source": [
    "rat = '4'\n",
    "cue = 'sound'\n",
    "for trial in [1, 2, 3, 4]:\n",
    "    this_df = (df.groupby(['rat']).get_group(rat).groupby(['cue']).get_group(cue).\n",
    "               groupby(['trial_type']).get_group(trial)[['measure', 'value']])\n",
    "    assert(np.allclose(np.mean(this_df[this_df['measure'] == 'durations']['value']), 0.0))\n",
    "    assert(np.allclose(np.mean(this_df[this_df['measure'] == 'numbers']['value']), 0.0))\n",
    "    assert(np.allclose(np.mean(this_df[this_df['measure'] == 'latency']['value']), 10.0))\n",
    "    assert(np.allclose(np.mean(this_df[this_df['measure'] == 'responses']['value']), 0.0))    \n",
    "    \n",
    "cue = 'light'\n",
    "for trial in [1, 2, 3, 4]:\n",
    "    this_df = (df.groupby(['rat']).get_group(rat).groupby(['cue']).get_group(cue).\n",
    "               groupby(['trial_type']).get_group(trial)[['measure', 'value']])\n",
    "    assert(np.allclose(np.mean(this_df[this_df['measure'] == 'durations']['value']), 10.0))\n",
    "    assert(np.allclose(np.mean(this_df[this_df['measure'] == 'numbers']['value']), 1.0))\n",
    "    assert(np.allclose(np.mean(this_df[this_df['measure'] == 'latency']['value']), 0.0))\n",
    "    assert(np.allclose(np.mean(this_df[this_df['measure'] == 'responses']['value']), 100.0))"
   ]
  },
  {
   "cell_type": "code",
   "execution_count": null,
   "metadata": {
    "collapsed": false
   },
   "outputs": [],
   "source": [
    "rat = '5'\n",
    "cue = 'light'\n",
    "for trial in [1, 2, 3, 4]:\n",
    "    this_df = (df.groupby(['rat']).get_group(rat).groupby(['cue']).get_group(cue).\n",
    "               groupby(['trial_type']).get_group(trial)[['measure', 'value']])\n",
    "    print(this_df)\n",
    "#     assert(np.allclose(np.mean(this_df[this_df['measure'] == 'durations']['value']), 0.0))\n",
    "#     assert(np.allclose(np.mean(this_df[this_df['measure'] == 'numbers']['value']), 0.0))\n",
    "#     assert(np.allclose(np.mean(this_df[this_df['measure'] == 'latency']['value']), 10.0))\n",
    "#     assert(np.allclose(np.mean(this_df[this_df['measure'] == 'responses']['value']), 0.0))\n",
    "\n",
    "# cue = 'sound'\n",
    "# for trial in [2, 4]:\n",
    "#     this_df = (df.groupby(['rat']).get_group(rat).groupby(['cue']).get_group(cue).\n",
    "#                groupby(['trial_type']).get_group(trial)[['measure', 'value']])\n",
    "#     assert(np.allclose(np.mean(this_df[this_df['measure'] == 'durations']['value']), 10.0))\n",
    "#     assert(np.allclose(np.mean(this_df[this_df['measure'] == 'numbers']['value']), 1.0))\n",
    "#     assert(np.allclose(np.mean(this_df[this_df['measure'] == 'latency']['value']), 0.0))\n",
    "#     assert(np.allclose(np.mean(this_df[this_df['measure'] == 'responses']['value']), 100.0))\n",
    "    \n",
    "# for trial in [1, 3]:\n",
    "#     this_df = (df.groupby(['rat']).get_group(rat).groupby(['cue']).get_group(cue).\n",
    "#                groupby(['trial_type']).get_group(trial)[['measure', 'value']])\n",
    "#     assert(np.allclose(np.mean(this_df[this_df['measure'] == 'durations']['value']), 0.0))\n",
    "#     assert(np.allclose(np.mean(this_df[this_df['measure'] == 'numbers']['value']), 0.0))\n",
    "#     assert(np.allclose(np.mean(this_df[this_df['measure'] == 'latency']['value']), 10.0))\n",
    "#     assert(np.allclose(np.mean(this_df[this_df['measure'] == 'responses']['value']), 0.0))"
   ]
  },
  {
   "cell_type": "code",
   "execution_count": null,
   "metadata": {
    "collapsed": false
   },
   "outputs": [],
   "source": [
    "rat = '6'\n",
    "for cue in ['light', 'sound']:\n",
    "    for trial in [1, 2, 3, 4]:\n",
    "        this_df = (df.groupby(['rat']).get_group(rat).groupby(['cue']).get_group(cue).\n",
    "                   groupby(['trial_type']).get_group(trial)[['measure', 'value']])\n",
    "        assert(np.allclose(np.mean(this_df[this_df['measure'] == 'durations']['value']), 0.0))\n",
    "        assert(np.allclose(np.mean(this_df[this_df['measure'] == 'numbers']['value']), 0.0))\n",
    "        assert(np.allclose(np.mean(this_df[this_df['measure'] == 'latency']['value']), 10.0))\n",
    "        assert(np.allclose(np.mean(this_df[this_df['measure'] == 'responses']['value']), 0.0))"
   ]
  },
  {
   "cell_type": "code",
   "execution_count": null,
   "metadata": {
    "collapsed": false
   },
   "outputs": [],
   "source": [
    "rat = '7'\n",
    "cue = 'sound'\n",
    "for trial in [1, 2, 3, 4]:\n",
    "    this_df = (df.groupby(['rat']).get_group(rat).groupby(['cue']).get_group(cue).\n",
    "               groupby(['trial_type']).get_group(trial)[['measure', 'value']])\n",
    "    assert(np.allclose(np.mean(this_df[this_df['measure'] == 'durations']['value']), 0.0))\n",
    "    assert(np.allclose(np.mean(this_df[this_df['measure'] == 'numbers']['value']), 0.0))\n",
    "    assert(np.allclose(np.mean(this_df[this_df['measure'] == 'latency']['value']), 10.0))\n",
    "    assert(np.allclose(np.mean(this_df[this_df['measure'] == 'responses']['value']), 0.0))\n",
    "    \n",
    "cue = 'light'\n",
    "for trial in [1, 2, 3, 4]:\n",
    "    this_df = (df.groupby(['rat']).get_group(rat).groupby(['cue']).get_group(cue).\n",
    "               groupby(['trial_type']).get_group(trial)[['measure', 'value']])\n",
    "    print(this_df)\n",
    "#     assert(np.allclose(np.mean(this_df[this_df['measure'] == 'durations']['value']), 5.0))\n",
    "#     assert(np.allclose(np.mean(this_df[this_df['measure'] == 'numbers']['value']), 1.0))\n",
    "#     assert(np.allclose(np.mean(this_df[this_df['measure'] == 'latency']['value']), 5.0))\n",
    "#     assert(np.allclose(np.mean(this_df[this_df['measure'] == 'responses']['value']), 100.0))"
   ]
  },
  {
   "cell_type": "code",
   "execution_count": null,
   "metadata": {
    "collapsed": true
   },
   "outputs": [],
   "source": []
  }
 ],
 "metadata": {
  "kernelspec": {
   "display_name": "Python 3",
   "language": "python",
   "name": "python3"
  },
  "language_info": {
   "codemirror_mode": {
    "name": "ipython",
    "version": 3
   },
   "file_extension": ".py",
   "mimetype": "text/x-python",
   "name": "python",
   "nbconvert_exporter": "python",
   "pygments_lexer": "ipython3",
   "version": "3.5.2"
  }
 },
 "nbformat": 4,
 "nbformat_minor": 0
}
