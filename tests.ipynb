{
 "cells": [
  {
   "cell_type": "code",
   "execution_count": null,
   "metadata": {
    "collapsed": true
   },
   "outputs": [],
   "source": [
    "%matplotlib inline\n",
    "import numpy as np\n",
    "import vdmlab as vdm\n",
    "import matplotlib.pyplot as plt\n",
    "import pandas as pd\n",
    "from core import Rat, assign_label"
   ]
  },
  {
   "cell_type": "code",
   "execution_count": null,
   "metadata": {
    "collapsed": true
   },
   "outputs": [],
   "source": [
    "test_file = 'E:\\\\code\\\\emi_biconditional\\\\cache\\\\other\\\\!roborats'"
   ]
  },
  {
   "cell_type": "code",
   "execution_count": null,
   "metadata": {
    "collapsed": false
   },
   "outputs": [],
   "source": [
    "rats_data = vdm.load_medpc(test_file, assign_label)"
   ]
  },
  {
   "cell_type": "code",
   "execution_count": null,
   "metadata": {
    "collapsed": false
   },
   "outputs": [],
   "source": [
    "rats_data['1']['lights1'].starts"
   ]
  },
  {
   "cell_type": "code",
   "execution_count": null,
   "metadata": {
    "collapsed": false
   },
   "outputs": [],
   "source": [
    "rats = ['1', '2', '3', '4', '5', '6', '7']\n",
    "\n",
    "data = dict()\n",
    "for rat in rats:\n",
    "    data[rat] = Rat(rat)\n",
    "    data[rat].add_session(**rats_data[rat])"
   ]
  },
  {
   "cell_type": "code",
   "execution_count": null,
   "metadata": {
    "collapsed": false
   },
   "outputs": [],
   "source": [
    "data['1'].sessions[0].trials"
   ]
  },
  {
   "cell_type": "code",
   "execution_count": null,
   "metadata": {
    "collapsed": false
   },
   "outputs": [],
   "source": [
    "n_sessions = len(data['1'].sessions)\n",
    "\n",
    "together = dict(trial=[], rat=[], session=[], trial_type=[], rewarded=[], cue=[], value=[], measure=[], condition=[])\n",
    "\n",
    "all_trials = []\n",
    "for session in range(n_sessions):\n",
    "    for rat in rats:\n",
    "        all_trials.extend(data[rat].sessions[session].trials)\n",
    "        print(data[rat].sessions[session].trials)\n",
    "\n",
    "    for i, trial in enumerate(all_trials):\n",
    "        for measure in measures:\n",
    "            if not only_sound or trial.cue == 'sound':\n",
    "                together['trial'].append(\"%s, %d\" % (rat, i))\n",
    "                together['rat'].append(rat)\n",
    "                together['session'].append(session+1)\n",
    "                together['trial_type'].append(trial.trial_type)\n",
    "                together['rewarded'].append(\"%s %s\" % (trial.cue, 'rewarded' if trial.trial_type % 2 == 0 else 'unrewarded'))\n",
    "                together['cue'].append(trial.cue)\n",
    "                together['condition'].append(\"%s %d\" % (trial.cue, trial.trial_type))\n",
    "                together['measure'].append(measure)\n",
    "                together['value'].append(f_analyze(trial, measure))"
   ]
  },
  {
   "cell_type": "code",
   "execution_count": null,
   "metadata": {
    "collapsed": false
   },
   "outputs": [],
   "source": [
    "df = pd.DataFrame(data=together)"
   ]
  },
  {
   "cell_type": "code",
   "execution_count": null,
   "metadata": {
    "collapsed": false
   },
   "outputs": [],
   "source": [
    "df"
   ]
  },
  {
   "cell_type": "code",
   "execution_count": null,
   "metadata": {
    "collapsed": true
   },
   "outputs": [],
   "source": []
  },
  {
   "cell_type": "code",
   "execution_count": null,
   "metadata": {
    "collapsed": true
   },
   "outputs": [],
   "source": []
  },
  {
   "cell_type": "code",
   "execution_count": null,
   "metadata": {
    "collapsed": true
   },
   "outputs": [],
   "source": []
  }
 ],
 "metadata": {
  "kernelspec": {
   "display_name": "Python 3",
   "language": "python",
   "name": "python3"
  },
  "language_info": {
   "codemirror_mode": {
    "name": "ipython",
    "version": 3
   },
   "file_extension": ".py",
   "mimetype": "text/x-python",
   "name": "python",
   "nbconvert_exporter": "python",
   "pygments_lexer": "ipython3",
   "version": "3.5.2"
  }
 },
 "nbformat": 4,
 "nbformat_minor": 0
}
