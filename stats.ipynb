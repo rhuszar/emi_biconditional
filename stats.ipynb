{
 "cells": [
  {
   "cell_type": "code",
   "execution_count": null,
   "metadata": {
    "collapsed": false
   },
   "outputs": [],
   "source": [
    "%matplotlib inline\n",
    "%load_ext rpy2.ipython\n",
    "import vdmlab as vdm\n",
    "import os\n",
    "import numpy as np\n",
    "import pandas as pd\n",
    "import seaborn as sns\n",
    "import matplotlib.pyplot as plt\n",
    "from core import assign_label, Rat, combine_rats\n",
    "from plotting import plot_behavior\n",
    "\n",
    "from rpy2 import robjects as ro\n",
    "from rpy2.robjects import pandas2ri\n",
    "from rpy2.robjects.packages import importr"
   ]
  },
  {
   "cell_type": "code",
   "execution_count": null,
   "metadata": {
    "collapsed": false
   },
   "outputs": [],
   "source": [
    "pandas2ri.activate()\n",
    "lme4 = importr('lme4')\n",
    "car = importr('car')\n",
    "lmerTest = importr('lmerTest')"
   ]
  },
  {
   "cell_type": "code",
   "execution_count": null,
   "metadata": {
    "collapsed": true
   },
   "outputs": [],
   "source": [
    "# home = os.path.expanduser(\"~\")\n",
    "# root = os.path.join(home, 'code', 'emi_biconditional')\n",
    "# data_filepath = os.path.join(root, 'cache', 'data')\n",
    "\n",
    "data_filepath = os.path.join('E:\\\\', 'code', 'emi_biconditional', 'cache', 'data')"
   ]
  },
  {
   "cell_type": "code",
   "execution_count": null,
   "metadata": {
    "collapsed": false
   },
   "outputs": [],
   "source": [
    "broken_sessions = ['!2016-10-19a1', '!2016-10-19a2']\n",
    "sessions = []\n",
    "for file in sorted(os.listdir(data_filepath)):\n",
    "    if file[0] == '!' and file not in broken_sessions:\n",
    "        sessions.append(os.path.join(data_filepath, file))\n",
    "\n",
    "rats = ['1', '2', '3', '4', '5', '6', '7', '8']\n",
    "\n",
    "data = dict()\n",
    "for rat in rats:\n",
    "    data[rat] = Rat(rat)\n",
    "\n",
    "broken_a = os.path.join(data_filepath, broken_sessions[0])\n",
    "broken_b = os.path.join(data_filepath, broken_sessions[1])\n",
    "rats_data_a = vdm.load_medpc(broken_a, assign_label)\n",
    "rats_data_b = vdm.load_medpc(broken_b, assign_label)\n",
    "for rat in rats_data_a:\n",
    "    for key in rats_data_a[rat]:\n",
    "        rats_data_b[rat][key].join(rats_data_a[rat][key])\n",
    "for rat in rats:\n",
    "    data[rat].add_session(**rats_data_b[rat])\n",
    "\n",
    "for session in sessions:\n",
    "    rats_data = vdm.load_medpc(os.path.join(data_filepath, session), assign_label)\n",
    "\n",
    "    for rat in rats:\n",
    "        data[rat].add_session(**rats_data[rat])\n",
    "\n",
    "n_sessions = len(data['1'].sessions)\n",
    "only_sound = False\n",
    "\n",
    "df = combine_rats(data, rats, n_sessions, only_sound)"
   ]
  },
  {
   "cell_type": "code",
   "execution_count": null,
   "metadata": {
    "collapsed": false
   },
   "outputs": [],
   "source": [
    "df.head()"
   ]
  },
  {
   "cell_type": "code",
   "execution_count": null,
   "metadata": {
    "collapsed": true
   },
   "outputs": [],
   "source": [
    "def evaluate_training(learning_df):\n",
    "    ro.globalenv['rlearn'] = pandas2ri.py2ri(learning_df)\n",
    "    ro.r(\"\"\"rlearn <- within(rlearn, {\n",
    "      trial <- factor(trial_type)\n",
    "      rewarded <- factor(rewarded)\n",
    "      measure <- factor(measure)\n",
    "      value <- as.numeric(value)})\"\"\")\n",
    "\n",
    "    ro.r(\"contrasts(rlearn$trial) <- c(3, 1, -1, -3)\")\n",
    "    ro.r(\"contrasts(rlearn$rewarded) <- c(1, -1)\")\n",
    "\n",
    "    ro.r(\"lmm <- lmer(value ~ rewarded * session + (1|measure), data=rlearn, REML=FALSE)\")\n",
    "    anova = ro.r(\"print(Anova(lmm,type=3))\")\n",
    "    summary = ro.r(\"print(summary(lmm))\")\n",
    "    return anova, summary"
   ]
  },
  {
   "cell_type": "code",
   "execution_count": null,
   "metadata": {
    "collapsed": false
   },
   "outputs": [],
   "source": [
    "stats_df = df[df['cue'] == 'sound']\n",
    "stats_df.head()"
   ]
  },
  {
   "cell_type": "code",
   "execution_count": null,
   "metadata": {
    "collapsed": false
   },
   "outputs": [],
   "source": [
    "anova, summary = evaluate_training(stats_df)"
   ]
  },
  {
   "cell_type": "code",
   "execution_count": null,
   "metadata": {
    "collapsed": false
   },
   "outputs": [],
   "source": [
    "anova"
   ]
  },
  {
   "cell_type": "code",
   "execution_count": null,
   "metadata": {
    "collapsed": false
   },
   "outputs": [],
   "source": [
    "summary"
   ]
  },
  {
   "cell_type": "code",
   "execution_count": null,
   "metadata": {
    "collapsed": true
   },
   "outputs": [],
   "source": []
  }
 ],
 "metadata": {
  "kernelspec": {
   "display_name": "Python 3",
   "language": "python",
   "name": "python3"
  },
  "language_info": {
   "codemirror_mode": {
    "name": "ipython",
    "version": 3
   },
   "file_extension": ".py",
   "mimetype": "text/x-python",
   "name": "python",
   "nbconvert_exporter": "python",
   "pygments_lexer": "ipython3",
   "version": "3.5.2"
  }
 },
 "nbformat": 4,
 "nbformat_minor": 0
}
