{
 "cells": [
  {
   "cell_type": "code",
   "execution_count": null,
   "metadata": {
    "collapsed": false
   },
   "outputs": [],
   "source": [
    "%matplotlib inline\n",
    "import vdmlab as vdm\n",
    "import os\n",
    "import numpy as np\n",
    "import pandas as pd\n",
    "import seaborn as sns\n",
    "import matplotlib.pyplot as plt\n",
    "from core import assign_label, Rat, combine_rats\n",
    "from plotting import plot_behavior"
   ]
  },
  {
   "cell_type": "code",
   "execution_count": null,
   "metadata": {
    "collapsed": true
   },
   "outputs": [],
   "source": [
    "home = os.path.expanduser(\"~\")\n",
    "root = os.path.join(home, 'code', 'emi_biconditional')\n",
    "data_filepath = os.path.join(root, 'cache', 'data')\n",
    "split_data_filepath = os.path.join(root, 'cache', 'other')\n",
    "output_filepath = os.path.join(root, 'plots')"
   ]
  },
  {
   "cell_type": "code",
   "execution_count": null,
   "metadata": {
    "collapsed": false
   },
   "outputs": [],
   "source": [
    "sessions = []\n",
    "for file in sorted(os.listdir(data_filepath)):\n",
    "    if file[0] == '!':\n",
    "        sessions.append(os.path.join(data_filepath, file))\n",
    "\n",
    "rats = ['1', '2', '3', '4', '5', '6', '7', '8']\n",
    "\n",
    "data = dict()\n",
    "for rat in rats:\n",
    "    data[rat] = Rat(rat)\n",
    "\n",
    "broken_a = os.path.join(split_data_filepath, '!2016-10-19a1')\n",
    "broken_b = os.path.join(split_data_filepath, '!2016-10-19a2')\n",
    "rats_data_a = vdm.load_medpc(broken_a, assign_label)\n",
    "rats_data_b = vdm.load_medpc(broken_b, assign_label)\n",
    "for rat in rats_data_a:\n",
    "    for key in rats_data_a[rat]:\n",
    "        rats_data_b[rat][key].join(rats_data_a[rat][key])\n",
    "\n",
    "for rat in rats:\n",
    "    data[rat].add_session(**rats_data_b[rat])\n",
    "\n",
    "for session in sessions:\n",
    "    rats_data = vdm.load_medpc(os.path.join(data_filepath, session), assign_label)\n",
    "\n",
    "    for rat in rats:\n",
    "        data[rat].add_session(**rats_data[rat])\n",
    "\n",
    "n_sessions = len(data['1'].sessions)\n",
    "only_sound = False\n",
    "\n",
    "df = combine_rats(data, rats, n_sessions, only_sound)"
   ]
  },
  {
   "cell_type": "code",
   "execution_count": null,
   "metadata": {
    "collapsed": true
   },
   "outputs": [],
   "source": [
    "def fix_missing_trials(df):\n",
    "    nan_idx = np.where(np.isnan(df['value']))[0]\n",
    "    for idx in nan_idx:\n",
    "        row = df.loc[idx]\n",
    "        value = df.loc[(df['rat'] == row['rat']) & \n",
    "                       (df['session'] == row['session']) & \n",
    "                       (df['condition'] == row['condition']) & \n",
    "                       (df['measure'] == row['measure'])].mean()['value']\n",
    "\n",
    "        df.set_value(idx, 'value', value)"
   ]
  },
  {
   "cell_type": "code",
   "execution_count": null,
   "metadata": {
    "collapsed": true
   },
   "outputs": [],
   "source": [
    "fix_missing_trials(df)"
   ]
  },
  {
   "cell_type": "code",
   "execution_count": null,
   "metadata": {
    "collapsed": false
   },
   "outputs": [],
   "source": [
    "np.sum(np.isnan(df['value']))"
   ]
  },
  {
   "cell_type": "code",
   "execution_count": null,
   "metadata": {
    "collapsed": false
   },
   "outputs": [],
   "source": [
    "plot_behavior(df, ['1'], only_sound=False, by_outcome=True)"
   ]
  },
  {
   "cell_type": "code",
   "execution_count": null,
   "metadata": {
    "collapsed": true
   },
   "outputs": [],
   "source": []
  }
 ],
 "metadata": {
  "kernelspec": {
   "display_name": "Python 3",
   "language": "python",
   "name": "python3"
  },
  "language_info": {
   "codemirror_mode": {
    "name": "ipython",
    "version": 3
   },
   "file_extension": ".py",
   "mimetype": "text/x-python",
   "name": "python",
   "nbconvert_exporter": "python",
   "pygments_lexer": "ipython3",
   "version": "3.5.2"
  }
 },
 "nbformat": 4,
 "nbformat_minor": 0
}
