{
 "cells": [
  {
   "cell_type": "code",
   "execution_count": null,
   "metadata": {
    "collapsed": true
   },
   "outputs": [],
   "source": [
    "%matplotlib inline\n",
    "import vdmlab as vdm\n",
    "import os\n",
    "import numpy as np\n",
    "import pandas as pd\n",
    "import seaborn as sns\n",
    "import matplotlib.pyplot as plt\n",
    "from core import assign_label, Rat, f_analyze"
   ]
  },
  {
   "cell_type": "code",
   "execution_count": null,
   "metadata": {
    "collapsed": true
   },
   "outputs": [],
   "source": [
    "data_filepath = 'E:\\code\\emi_biconditional\\cache\\data'\n",
    "split_data_filepath = 'E:\\code\\emi_biconditional\\cache\\magazine'"
   ]
  },
  {
   "cell_type": "code",
   "execution_count": null,
   "metadata": {
    "collapsed": false
   },
   "outputs": [],
   "source": [
    "sessions = []\n",
    "for file in sorted(os.listdir(data_filepath)):\n",
    "    if file[0] == '!':\n",
    "        sessions.append(os.path.join(data_filepath, file))\n",
    "\n",
    "rats = ['1', '2', '3', '4', '5', '6', '7', '8']\n",
    "\n",
    "broken_a = os.path.join(split_data_filepath, '!2016-10-19a1')\n",
    "broken_b = os.path.join(split_data_filepath, '!2016-10-19a2')\n",
    "rats_data_a = vdm.load_medpc(broken_a, assign_label)\n",
    "rats_data_b = vdm.load_medpc(broken_b, assign_label)\n",
    "for rat in rats_data_a:\n",
    "    for key in rats_data_a[rat]:\n",
    "        rats_data_b[rat][key].join(rats_data_a[rat][key])\n",
    "\n",
    "data = dict()\n",
    "for rat in rats:\n",
    "    data[rat] = Rat(rat)\n",
    "    \n",
    "for rat in rats:\n",
    "    data[rat].add_session(**rats_data_b[rat])\n",
    "\n",
    "n_sessions = len(sessions)+1\n",
    "\n",
    "for session in sessions:\n",
    "    rats_data = vdm.load_medpc(os.path.join(data_filepath, session), assign_label)\n",
    "\n",
    "    for rat in rats:\n",
    "        data[rat].add_session(**rats_data[rat])"
   ]
  },
  {
   "cell_type": "code",
   "execution_count": null,
   "metadata": {
    "collapsed": false
   },
   "outputs": [],
   "source": [
    "trials_maping = dict(one=1, two=2, three=3, four=4)\n",
    "for rat in rats:\n",
    "    for i, session in enumerate(data[rat].sessions):\n",
    "        trials_count = dict(one=0, two=0, three=0, four=0)\n",
    "        for trial in session.trials:\n",
    "            for key in trials_maping:\n",
    "                if trial.trial_type == trials_maping[key]:\n",
    "                    trials_count[key] += 1\n",
    "        if np.all(list(trials_count.values())) < 16:\n",
    "            print('Rat', rat, trials_count, 'session', i)\n",
    "            break"
   ]
  },
  {
   "cell_type": "code",
   "execution_count": null,
   "metadata": {
    "collapsed": true
   },
   "outputs": [],
   "source": []
  },
  {
   "cell_type": "code",
   "execution_count": null,
   "metadata": {
    "collapsed": true
   },
   "outputs": [],
   "source": []
  },
  {
   "cell_type": "code",
   "execution_count": null,
   "metadata": {
    "collapsed": false
   },
   "outputs": [],
   "source": [
    "print(rats_data_a['3']['lights1'].n_epochs, rats_data_a['3']['lights2'].n_epochs, \n",
    "      rats_data_a['3']['sounds1'].n_epochs, rats_data_a['3']['sounds2'].n_epochs)"
   ]
  },
  {
   "cell_type": "code",
   "execution_count": null,
   "metadata": {
    "collapsed": false
   },
   "outputs": [],
   "source": [
    "print(rats_data_a['4']['lights1'].n_epochs, rats_data_a['4']['lights2'].n_epochs, \n",
    "      rats_data_a['4']['sounds1'].n_epochs, rats_data_a['4']['sounds2'].n_epochs)"
   ]
  },
  {
   "cell_type": "code",
   "execution_count": null,
   "metadata": {
    "collapsed": false
   },
   "outputs": [],
   "source": [
    "n_sessions = len(data['1'].sessions)\n",
    "\n",
    "only_sound = False\n",
    "print(n_sessions)"
   ]
  },
  {
   "cell_type": "code",
   "execution_count": null,
   "metadata": {
    "collapsed": false
   },
   "outputs": [],
   "source": [
    "measures = ['durations', 'numbers', 'latency', 'responses']\n",
    "together = dict(trial=[], rat=[], session=[], trial_type=[], rewarded=[], cue=[], value=[], measure=[], condition=[])\n",
    "\n",
    "for session in range(n_sessions):\n",
    "    all_trials = []\n",
    "    for rat in rats:\n",
    "        all_trials.extend(data[rat].sessions[session].trials)\n",
    "\n",
    "        for i, trial in enumerate(all_trials):\n",
    "            for measure in measures:\n",
    "                if not only_sound or trial.cue == 'sound':\n",
    "                    together['trial'].append(\"%s, %d\" % (rat, i))\n",
    "                    together['rat'].append(rat)\n",
    "                    together['session'].append(session+1)\n",
    "                    together['trial_type'].append(trial.trial_type)\n",
    "                    together['rewarded'].append(\"%s %s\" % (trial.cue, 'rewarded' if trial.trial_type % 2 == 0 else 'unrewarded'))\n",
    "                    together['cue'].append(trial.cue)\n",
    "                    together['condition'].append(\"%s %d\" % (trial.cue, trial.trial_type))\n",
    "                    together['measure'].append(measure)\n",
    "                    together['value'].append(f_analyze(trial, measure))\n",
    "\n",
    "df = pd.DataFrame(data=together)"
   ]
  },
  {
   "cell_type": "code",
   "execution_count": null,
   "metadata": {
    "collapsed": false
   },
   "outputs": [],
   "source": [
    "df.head(10)"
   ]
  },
  {
   "cell_type": "code",
   "execution_count": null,
   "metadata": {
    "collapsed": false
   },
   "outputs": [],
   "source": [
    "colours = [\"#9970ab\", \"#4393c3\", \"#762a83\", \"#b2182b\", \"#5aae61\", \"#d6604d\", \"#1b7837\", \"#2166ac\"]\n",
    "g = sns.FacetGrid(data=df, col=\"measure\", sharey=False, size=3, aspect=1.)\n",
    "g.map_dataframe(sns.tsplot, time=\"session\", unit=\"trial\", condition=\"rewarded\", value=\"value\", color=colours)\n",
    "# legend_dist = 1.5\n",
    "# g.set_axis_labels(\"Session\", \"Value\")\n",
    "# for ax, label in zip(g.axes[0], [\"Durations\", \"Numbers\", \"Latency\", \"Responses\"]):\n",
    "#     ax.set_title(\"\")\n",
    "#     ax.set_ylabel(label)\n",
    "# plt.tight_layout()\n",
    "# plt.legend()\n",
    "plt.show()"
   ]
  },
  {
   "cell_type": "code",
   "execution_count": null,
   "metadata": {
    "collapsed": true
   },
   "outputs": [],
   "source": []
  },
  {
   "cell_type": "code",
   "execution_count": null,
   "metadata": {
    "collapsed": false
   },
   "outputs": [],
   "source": [
    "g = sns.factorplot(x=\"session\", \n",
    "                   y=\"value\", \n",
    "                   col=\"measure\", \n",
    "                   hue=\"trial_type\", \n",
    "                   row=\"cue\",\n",
    "                   sharey=False, \n",
    "                   kind=\"point\", \n",
    "                   data=df)"
   ]
  },
  {
   "cell_type": "code",
   "execution_count": null,
   "metadata": {
    "collapsed": true
   },
   "outputs": [],
   "source": []
  }
 ],
 "metadata": {
  "kernelspec": {
   "display_name": "Python 3",
   "language": "python",
   "name": "python3"
  },
  "language_info": {
   "codemirror_mode": {
    "name": "ipython",
    "version": 3
   },
   "file_extension": ".py",
   "mimetype": "text/x-python",
   "name": "python",
   "nbconvert_exporter": "python",
   "pygments_lexer": "ipython3",
   "version": "3.5.2"
  }
 },
 "nbformat": 4,
 "nbformat_minor": 0
}
